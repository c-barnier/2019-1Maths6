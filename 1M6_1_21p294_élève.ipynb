{
  "nbformat": 4,
  "nbformat_minor": 0,
  "metadata": {
    "colab": {
      "name": "1M6-1-21p294 élève",
      "provenance": []
    },
    "kernelspec": {
      "name": "python3",
      "display_name": "Python 3"
    }
  },
  "cells": [
    {
      "cell_type": "markdown",
      "metadata": {
        "id": "cEdxjgVNRMg8",
        "colab_type": "text"
      },
      "source": [
        "### **Marche aléatoire d'un mobile - Probabilité**\n",
        "\n",
        "![21p294](https://docs.google.com/uc?export=download&id=1yjVUwCGkDabv5JgVK_5ypjEqhQG5Z3KL)\n",
        "\n",
        "1) On fait trois tirages successifs la distance parcouru est de 3 mètres.\n",
        "\n",
        "2) A chaque tirage, la probabilité d'avancer de 1m est de $\\frac{1}{4}$.\n",
        "\n",
        "Puisque l'on repète 3 fois de manière identique et indépendante ce tirage, la probabilité d'obtenir une position de 3m est de $p=\\left(\\frac{1}{4}\\right)^3\\approx0.0156$"
      ]
    },
    {
      "cell_type": "markdown",
      "metadata": {
        "id": "YA4fQSUrd1BT",
        "colab_type": "text"
      },
      "source": [
        "**1) Simulation de l'expérience aléatoire**\n",
        "\n",
        "Nous allons simuler cette expérience aléatoire grâce à une fonction en Python.\n",
        "A vous de compléter le code suivant, puis de l'exécuter en appuyant sur la flèche start:"
      ]
    },
    {
      "cell_type": "code",
      "metadata": {
        "id": "FiG8X6F9Z_Mq",
        "colab_type": "code",
        "colab": {}
      },
      "source": [
        "from random import *        #Permet d'utiliser les fonctions de la bibliothèque random\n",
        "def mobile():               #Définition de la fonction\n",
        "  position=0                #initialisation de la position\n",
        "  for i in range(3):        #répétition de 3 boucles\n",
        "    if randint(1,4)==1:     # si le tirage d'un nombre entier entre 1 et 4, alors\n",
        "      position=...........\n",
        "    else:                   #Sinon\n",
        "      position=...........\n",
        "  return position           #La fonction mobile() renvoie la position du mobile"
      ],
      "execution_count": 0,
      "outputs": []
    },
    {
      "cell_type": "markdown",
      "metadata": {
        "id": "xgrYE59ubqV9",
        "colab_type": "text"
      },
      "source": [
        "**2) Affichage du résultat d'une simulation**\n",
        "\n",
        "Pour tester la fonction,on affiche ce qu'elle renvoie: ( Exécuter le code suivant)"
      ]
    },
    {
      "cell_type": "code",
      "metadata": {
        "id": "K69ouAs8ah15",
        "colab_type": "code",
        "colab": {}
      },
      "source": [
        "print(mobile())"
      ],
      "execution_count": 0,
      "outputs": []
    },
    {
      "cell_type": "markdown",
      "metadata": {
        "id": "blbH86MZxxgZ",
        "colab_type": "text"
      },
      "source": [
        "**3) Affichage du résultat de 10 simulations**\n",
        "\n",
        "(Exécuter le code suivant)"
      ]
    },
    {
      "cell_type": "code",
      "metadata": {
        "id": "USgJHlg7cHcl",
        "colab_type": "code",
        "colab": {}
      },
      "source": [
        "for i in range(10):           #On fait dix boucles\n",
        "  print(mobile(),\",\",end=\"\")  #end=\"\" permet de ne pas revenir à la ligne après un print"
      ],
      "execution_count": 0,
      "outputs": []
    },
    {
      "cell_type": "markdown",
      "metadata": {
        "id": "XiW3yXrMduGP",
        "colab_type": "text"
      },
      "source": [
        "**4) Estimation de la probabilité que la position soit 3**\n",
        "\n",
        "Ecrire un programme qui simule 1000 fois cette expérience aléatoire et qui compte le nombre de fois que l'on obtient **3** comme position;\n",
        "Afficher la fréquence d'apparition de la **position 3** sur 1000 simulations.\n"
      ]
    },
    {
      "cell_type": "code",
      "metadata": {
        "id": "vJZFn9R5eKKf",
        "colab_type": "code",
        "colab": {}
      },
      "source": [
        "compteur=0                      #On initialise le compteur à 0\n",
        "for n in range(1000):           #On fait 1000 simulation\n",
        "  if ............               #Si la position est 3 on augmente le compteur de 1\n",
        "    compteur=..............\n",
        "print(\"Nombre de position 3 obtenue:\",compteur)\n",
        "print(\"Fréquence d'apparition de la position 3 f=\",compteur/1000)\n",
        "\n"
      ],
      "execution_count": 0,
      "outputs": []
    },
    {
      "cell_type": "markdown",
      "metadata": {
        "id": "EB5uDJwtfOAl",
        "colab_type": "text"
      },
      "source": [
        "4) **Analyse**\n",
        "\n",
        "a) Exécuter plusieurs fois le programme, noter les fréquences observées. Que peut-on dire de ces fréquences? \n",
        "\n",
        "b)Vérifier la cohérence des résultats expérimentaux à l'aide de l'intervalle de fluctuation à 95%\n",
        "\n",
        "---\n",
        "\n",
        "**Rappel:** **L'intervalle de fluctuation à 95%** est un intervalle dans lequel la grandeur observée est censée se trouver avec une forte probabilité de l'ordre de 95 %. Il est centré autour de $p$ la probabilité théorique.\n",
        "\n",
        " Si $n>=25$ et $0,2\\leq p \\leq 0,8$ ou si $n\\geq30$ et $np\\geq5,n(1-p)\\geq5$ alors $I_{95}=\\left[p-\\frac{1}{\\sqrt{1000}};p-\\frac{1}{\\sqrt{1000}}\\right]$ \n",
        "\n",
        "---\n",
        "\n",
        "d) Comment modifier le programme pour obtenir une estimation plus précise?\n",
        "\n"
      ]
    },
    {
      "cell_type": "markdown",
      "metadata": {
        "id": "0Vv344zrqDil",
        "colab_type": "text"
      },
      "source": [
        "**Tapez vos réponses dans ce bloc**"
      ]
    }
  ]
}