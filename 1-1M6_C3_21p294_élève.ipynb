{
  "nbformat": 4,
  "nbformat_minor": 0,
  "metadata": {
    "colab": {
      "name": "1M6-C3-21p294 élève",
      "provenance": []
    },
    "kernelspec": {
      "name": "python3",
      "display_name": "Python 3"
    }
  },
  "cells": [
    {
      "cell_type": "markdown",
      "metadata": {
        "id": "cEdxjgVNRMg8",
        "colab_type": "text"
      },
      "source": [
        "### **Marche aléatoire d'un mobile - Probabilité**\n",
        "\n",
        "![21p294](https://docs.google.com/uc?export=download&id=1yjVUwCGkDabv5JgVK_5ypjEqhQG5Z3KL)"
      ]
    },
    {
      "cell_type": "markdown",
      "metadata": {
        "id": "YA4fQSUrd1BT",
        "colab_type": "text"
      },
      "source": [
        "**1) Simulation de l'expérience aléatoire**\n",
        "\n",
        "Nous allons simuler cette expérience aléatoire grâce à une fonction en Python.\n",
        "A vous de compléter le code suivant, puis de l'exécuter en appuyant sur la flèche start:"
      ]
    },
    {
      "cell_type": "code",
      "metadata": {
        "id": "FiG8X6F9Z_Mq",
        "colab_type": "code",
        "colab": {}
      },
      "source": [
        "from random import *        #Permet d'utiliser les fonctions de la bibliothèque random\n",
        "def mobile():               #Définition de la fonction\n",
        "  position=0                #initialisation de la position\n",
        "  for i in range(3):      #répétition de 3 boucles\n",
        "    if randint(1,4)==1:     # si le tirage d'un nombre entier entre 1 et 4 est égale à 1 alors\n",
        "      position=........\n",
        "    else:                   #Sinon\n",
        "      position=........\n",
        "  return position           #La fonction mobile() renvoie la position du mobile"
      ],
      "execution_count": 0,
      "outputs": []
    },
    {
      "cell_type": "markdown",
      "metadata": {
        "id": "xgrYE59ubqV9",
        "colab_type": "text"
      },
      "source": [
        "**2) Affichage du résultat d'une simulation**\n",
        "\n",
        "Pour tester la fonction,on affiche ce qu'elle renvoie: ( Exécuter le code suivant)"
      ]
    },
    {
      "cell_type": "code",
      "metadata": {
        "id": "K69ouAs8ah15",
        "colab_type": "code",
        "colab": {}
      },
      "source": [
        "print(mobile())"
      ],
      "execution_count": 0,
      "outputs": []
    },
    {
      "cell_type": "markdown",
      "metadata": {
        "id": "blbH86MZxxgZ",
        "colab_type": "text"
      },
      "source": [
        "**3) Affichage du résultat de 10 simulations**\n",
        "\n",
        "(Exécuter le code suivant)"
      ]
    },
    {
      "cell_type": "code",
      "metadata": {
        "id": "USgJHlg7cHcl",
        "colab_type": "code",
        "colab": {}
      },
      "source": [
        "for i in range(10):           #On fait dix boucles\n",
        "  print(mobile(),\",\",end=\"\")  #end=\"\" permet de ne pas revenir à la ligne après un print"
      ],
      "execution_count": 0,
      "outputs": []
    },
    {
      "cell_type": "markdown",
      "metadata": {
        "id": "XiW3yXrMduGP",
        "colab_type": "text"
      },
      "source": [
        "**4) Estimation de la probabilité que la position soit -3**\n",
        "\n",
        "Compléter le programme suivant qui simule 1000 fois cette expérience aléatoire et qui compte le nombre de fois que l'on obtient **-3** comme position;\n",
        "Afficher la fréquence d'apparition de la **position -3** sur 1000 simulations.\n"
      ]
    },
    {
      "cell_type": "code",
      "metadata": {
        "id": "vJZFn9R5eKKf",
        "colab_type": "code",
        "colab": {}
      },
      "source": [
        "compteur=0                    #On initialise le compteur à 0\n",
        "for n in range(1000):         #On fait 1000 simulation\n",
        "  if ................:        #Si la position est -3 on augmente le compteur de 1\n",
        "    compteur=............\n",
        "print(\"Nombre de position -3 obtenues:\",compteur)\n",
        "print(\"Fréquence d'apparition de la position -3 f=\",compteur/1000)\n",
        "\n"
      ],
      "execution_count": 0,
      "outputs": []
    },
    {
      "cell_type": "markdown",
      "metadata": {
        "id": "EB5uDJwtfOAl",
        "colab_type": "text"
      },
      "source": [
        "4) **Analyse**\n",
        "\n",
        "a) Exécuter plusieurs fois le programme, noter les fréquences observées. Que peut-on dire de ces fréquences? \n",
        "\n",
        "b) Donner l'intervalle de confiance au niveau de 0,95 qui nous donne une estimation de la probabilité que la position du mobile soit **-3**.\n",
        "\n",
        "c)Calculer la probabilité théorique et vérifiez la cohérence des résultats expérimentaux.\n",
        "\n",
        "d) Comment modifier le programme pour obtenir une estimation plus précise?\n",
        "\n"
      ]
    },
    {
      "cell_type": "markdown",
      "metadata": {
        "id": "3Q45KBIujAbs",
        "colab_type": "text"
      },
      "source": [
        "**Réponses:** Vous taperez vos réponses dans ce bloc.\n",
        "\n",
        "a)\n",
        "\n",
        "b)\n",
        "\n",
        "c)\n",
        "\n",
        "d)\n",
        "\n",
        "\n",
        "\n"
      ]
    }
  ]
}