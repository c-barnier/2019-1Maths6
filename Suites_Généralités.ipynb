{
  "nbformat": 4,
  "nbformat_minor": 0,
  "metadata": {
    "colab": {
      "name": "Suites - Généralités.ipynb",
      "provenance": []
    },
    "kernelspec": {
      "name": "python3",
      "display_name": "Python 3"
    }
  },
  "cells": [
    {
      "cell_type": "markdown",
      "metadata": {
        "id": "SYlhCbXq41i5",
        "colab_type": "text"
      },
      "source": [
        "**Exercice S2**\n",
        "\n",
        "La suite $(u_n)$ est définie par $u_n=n²+1$ pour tout entier naturel $n$.\n",
        "\n",
        "Ecrire une fonction `seuil(S)` qui donne le rang du premier terme supérieur ou égal à 10^9 "
      ]
    },
    {
      "cell_type": "code",
      "metadata": {
        "id": "U4zXJhP84z6i",
        "colab_type": "code",
        "colab": {}
      },
      "source": [
        "def seuil(S):\n",
        "  k=0         #Au départ, l'indice k vaut 0\n",
        "  u=1         #Et la variable u contient u(0)\n",
        "  while u<S:  \n",
        "    k=k+1     #à chaque boucle on augente l'indice\n",
        "    u=k**2+1  #Puis on calcule le nouveau terme de rang k de la suite\n",
        "  return k    #Dès que U(k) est plus grand ou égale à S, on sort de la boucle et on renvoie le rang courant.\n",
        "  "
      ],
      "execution_count": 0,
      "outputs": []
    },
    {
      "cell_type": "code",
      "metadata": {
        "id": "2Vrbh5xJ7LUq",
        "colab_type": "code",
        "colab": {}
      },
      "source": [
        "seuil(10**9)   #On appelle la fonction seuil"
      ],
      "execution_count": 0,
      "outputs": []
    },
    {
      "cell_type": "markdown",
      "metadata": {
        "id": "MCgD2bwdA5vL",
        "colab_type": "text"
      },
      "source": [
        "**S3**\n",
        "La suite $(v_n)$ est définie par $v_n=\\frac{(-2)^{n-1}}{n+1}$ pour tout entier naturel $n$.\n",
        "\n",
        "Ecrire une fonction qui renvoie $u_n$ quand on lui donne $n$ puis afficher les 101 premiers termes de la suite."
      ]
    },
    {
      "cell_type": "code",
      "metadata": {
        "id": "yjEVa5fEBNZY",
        "colab_type": "code",
        "colab": {}
      },
      "source": [
        "def v(n):\n",
        "  v=(-2)**(n-1)/(n+1)\n",
        "  return v\n",
        "\n"
      ],
      "execution_count": 0,
      "outputs": []
    },
    {
      "cell_type": "code",
      "metadata": {
        "id": "CpXnRSm-w1Nu",
        "colab_type": "code",
        "colab": {}
      },
      "source": [
        "for i in range(101):   #On fait varier le compteur i de 0 à 100\n",
        "  print(i,v(i))        #A chaque boucle on affiche le rang i et la valeur de la suite au rang i"
      ],
      "execution_count": 0,
      "outputs": []
    },
    {
      "cell_type": "markdown",
      "metadata": {
        "id": "CNgHMIvIYqLq",
        "colab_type": "text"
      },
      "source": [
        "**S5**\n",
        "La suite $(u_n)$ est définie par récurrence:\n",
        "$\\left\\{ \\begin{array}{l}\n",
        "          u_0 = 1000\\\\\n",
        "          u_{n + 1} = 0,8u_n +4 \\text{ pour tout entier naturel $n$}\n",
        "        \\end{array} \\right.$\n",
        "\n",
        "Programmer une fonction `seuil2(S)` qui renvoie le rang de l'année à partir duquel la population $u_n$ sera inférieur à S."
      ]
    },
    {
      "cell_type": "code",
      "metadata": {
        "id": "TPN8Tdw4XCVQ",
        "colab_type": "code",
        "colab": {}
      },
      "source": [
        "def seuil2(S):\n",
        "  k=0\n",
        "  u=1000\n",
        "  while u>S:\n",
        "    k=k+1\n",
        "    u=0.8*u+4\n",
        "  return k\n"
      ],
      "execution_count": 0,
      "outputs": []
    },
    {
      "cell_type": "code",
      "metadata": {
        "id": "BcchorVv7VvZ",
        "colab_type": "code",
        "colab": {}
      },
      "source": [
        "seuil2(100)"
      ],
      "execution_count": 0,
      "outputs": []
    },
    {
      "cell_type": "markdown",
      "metadata": {
        "id": "odheNtchX76-",
        "colab_type": "text"
      },
      "source": [
        "`seuil2(100)` renvoie 12. La population sera inférieure ou égale à 100 individus à partir de 2012."
      ]
    },
    {
      "cell_type": "markdown",
      "metadata": {
        "id": "lNV4cql-cnUM",
        "colab_type": "text"
      },
      "source": [
        "**S6**\n",
        "La suite $(u_n)$ est définie par récurrence:\n",
        "$\\left\\{ \\begin{array}{l}\n",
        "          u_0 = 1\\\\\n",
        "          u_{n + 1} = u_n +\\frac{1}{n+1} ,n \\in \\mathbb{N} \n",
        "        \\end{array} \\right.$\n",
        "\n",
        "\n",
        "Ecrire une fonction qui renvoie $u_n$ quand on lui donne $n$"
      ]
    },
    {
      "cell_type": "code",
      "metadata": {
        "id": "ZGW_QapVc1AJ",
        "colab_type": "code",
        "colab": {}
      },
      "source": [
        "def u(n):\n",
        "  u=1 #On initialise la suite avec $u_0$ \n",
        "  for i in range(1,n+1): #On fait varier l'indice de 1 à n\n",
        "    u=u+1/(i+1)          #A chaque boucle on calcule le nouveau terme d'indice i\n",
        "  return u               #A la fin, la variable u contient le terme de rang n\n"
      ],
      "execution_count": 0,
      "outputs": []
    },
    {
      "cell_type": "code",
      "metadata": {
        "id": "ZgCAweoQ98dq",
        "colab_type": "code",
        "colab": {}
      },
      "source": [
        "u(3)                      #On appelle la fonction u"
      ],
      "execution_count": 0,
      "outputs": []
    }
  ]
}